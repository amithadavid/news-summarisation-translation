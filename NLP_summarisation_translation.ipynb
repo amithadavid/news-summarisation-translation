{
  "nbformat": 4,
  "nbformat_minor": 0,
  "metadata": {
    "colab": {
      "provenance": []
    },
    "kernelspec": {
      "name": "python3",
      "display_name": "Python 3"
    },
    "language_info": {
      "name": "python"
    }
  },
  "cells": [
    {
      "cell_type": "markdown",
      "source": [
        "# News Translation and Summarisation using NLP\n",
        "\n"
      ],
      "metadata": {
        "id": "TuBmIf3pmXbG"
      }
    },
    {
      "cell_type": "markdown",
      "source": [
        "prepared by Amitha David\n",
        "\n",
        "Python-based project leveraging NLP techniques for news summarization and translation to foreign language; streamlined NLP pipeline utilizing tools like NLTK, Hugging Face Transformers Library, and the Helsinki-NLP/opus-mt Model for text processing, summarization, and translation."
      ],
      "metadata": {
        "id": "Ybdoj_37mj3w"
      }
    },
    {
      "cell_type": "markdown",
      "source": [
        "### Import necessary packages"
      ],
      "metadata": {
        "id": "-RgrLYBhmTJZ"
      }
    },
    {
      "cell_type": "code",
      "execution_count": null,
      "metadata": {
        "id": "fXCCYUZbHSBp"
      },
      "outputs": [],
      "source": [
        "import transformers\n",
        "from transformers import pipeline"
      ]
    },
    {
      "cell_type": "markdown",
      "source": [
        "### Text Preprocessing"
      ],
      "metadata": {
        "id": "TA9W2A2gmsqd"
      }
    },
    {
      "cell_type": "code",
      "source": [
        "import nltk\n",
        "from nltk.corpus import stopwords\n",
        "from nltk.tokenize import word_tokenize\n",
        "from nltk.stem import PorterStemmer, WordNetLemmatizer\n",
        "import re\n",
        "\n",
        "# Download NLTK resources (if not already downloaded)\n",
        "nltk.download('punkt')\n",
        "nltk.download('stopwords')\n",
        "nltk.download('wordnet')\n",
        "\n",
        "def preprocess_text(text):\n",
        "    # Lowercasing\n",
        "    text = text.lower()\n",
        "\n",
        "    # Tokenization\n",
        "    tokens = word_tokenize(text)\n",
        "\n",
        "    # Removing special characters, numbers, and punctuation\n",
        "    tokens = [re.sub(r'[^a-zA-Z]', '', word) for word in tokens if word.isalnum()]\n",
        "\n",
        "    # Removing stop words\n",
        "    stop_words = set(stopwords.words('english'))\n",
        "    filtered_tokens = [word for word in tokens if word not in stop_words]\n",
        "\n",
        "    # Stemming\n",
        "    stemmer = PorterStemmer()\n",
        "    stemmed_tokens = [stemmer.stem(word) for word in filtered_tokens]\n",
        "\n",
        "    # Lemmatization\n",
        "    lemmatizer = WordNetLemmatizer()\n",
        "    lemmatized_tokens = [lemmatizer.lemmatize(word) for word in filtered_tokens]\n",
        "\n",
        "    # Text Normalization (Example: Replacing \"it's\" with \"it is\")\n",
        "    text = re.sub(r\"it's\", \"it is\", text)\n",
        "\n",
        "    # Limit the text to 500 words\n",
        "    if len(filtered_tokens) > 500:\n",
        "        filtered_tokens = filtered_tokens[:500]\n",
        "\n",
        "    preprocessed_text = ' '.join(filtered_tokens)\n",
        "\n",
        "    return preprocessed_text"
      ],
      "metadata": {
        "id": "l763jtJYft7w"
      },
      "execution_count": null,
      "outputs": []
    },
    {
      "cell_type": "markdown",
      "source": [
        "### Text Summarisation"
      ],
      "metadata": {
        "id": "GS0-x_cVmzqO"
      }
    },
    {
      "cell_type": "code",
      "source": [
        "def summarize_text(text, max_length=150):\n",
        "    summarizer = pipeline(\"summarization\")\n",
        "    summary = summarizer(text, max_length=max_length, min_length=30)\n",
        "    return summary[0]['summary_text']"
      ],
      "metadata": {
        "id": "39OxOG4zIC2j"
      },
      "execution_count": null,
      "outputs": []
    },
    {
      "cell_type": "markdown",
      "source": [
        "### NLP Stages in Translation"
      ],
      "metadata": {
        "id": "6LiGUCprm3vx"
      }
    },
    {
      "cell_type": "code",
      "source": [
        "def perform_translation(text, source_lang, target_lang):\n",
        "    model_name = f\"Helsinki-NLP/opus-mt-{source_lang}-{target_lang}\"\n",
        "    translator = pipeline(\"translation\", model=model_name)\n",
        "    translated_text = translator(text)\n",
        "    return translated_text[0]['translation_text']"
      ],
      "metadata": {
        "id": "X_XRKzHgICxd"
      },
      "execution_count": null,
      "outputs": []
    },
    {
      "cell_type": "markdown",
      "source": [
        "### Summarisized Translation in French"
      ],
      "metadata": {
        "id": "Lp5Uvnrnm872"
      }
    },
    {
      "cell_type": "code",
      "source": [
        "def summarize_and_translate(text, source_lang, target_lang):\n",
        "    # Pre-process the text\n",
        "    preprocessed_text = preprocess_text(text)\n",
        "\n",
        "    # Summarize the text\n",
        "    summarized_text = summarize_text(preprocessed_text)\n",
        "\n",
        "    # Translate the summarized text into French\n",
        "    translated_text = perform_translation(preprocessed_text, source_lang, target_lang)\n",
        "\n",
        "    return translated_text"
      ],
      "metadata": {
        "id": "fF7KYucTIMzx"
      },
      "execution_count": null,
      "outputs": []
    },
    {
      "cell_type": "markdown",
      "source": [
        "### Retrieving the news from website"
      ],
      "metadata": {
        "id": "k_cIItOFnB17"
      }
    },
    {
      "cell_type": "code",
      "source": [
        "import requests\n",
        "from bs4 import BeautifulSoup\n",
        "\n",
        "# Specify the URL of the webpage you want to scrape\n",
        "url = \"https://www.politico.com/news/2023/11/01/gaza-refugee-camp-israeli-strikes-00124706\"  # Replace with the URL of the webpage you want to scrape\n",
        "\n",
        "# Send an HTTP GET request to the URL\n",
        "response = requests.get(url)\n",
        "\n",
        "# Check if the request was successful\n",
        "if response.status_code == 200:\n",
        "    # Parse the HTML content of the webpage using BeautifulSoup\n",
        "    soup = BeautifulSoup(response.text, 'html.parser')\n",
        "\n",
        "    # Find the HTML elements with the specified class that contain the text content\n",
        "    # In this case, we're looking for elements with class \"story-text__paragraph\"\n",
        "    paragraph_elements = soup.find_all('p', class_='story-text__paragraph')\n",
        "\n",
        "    # Extract the text content from the selected elements\n",
        "    text_content = \" \".join([p.get_text() for p in paragraph_elements])\n",
        "\n",
        "    # Print or process the scraped text content\n",
        "    print(text_content)\n",
        "\n",
        "    # Store the scraped text in a variable\n",
        "    news_text = text_content\n",
        "else:\n",
        "    print(f\"Failed to retrieve content. Status code: {response.status_code}\")\n",
        "\n",
        "# Now, you have the news content in the `news_text` variable, containing text from <p class=\"story-text__paragraph\"> elements."
      ],
      "metadata": {
        "colab": {
          "base_uri": "https://localhost:8080/"
        },
        "id": "S930MQ6STocj",
        "outputId": "03d284d7-cc07-42e5-a379-aa9a7192c31f"
      },
      "execution_count": null,
      "outputs": [
        {
          "output_type": "stream",
          "name": "stdout",
          "text": [
            "RAFAH, Gaza Strip — Israeli airstrikes hit apartment buildings in a Gaza refugee camp for the second day in a row Wednesday, Palestinian officials said, as the territory’s only functioning border post opened to allow foreign passport holders to leave for the first time since war broke out over three weeks ago. Al-Jazeera television, one of the few media outlets still reporting from northern Gaza, aired footage of devastation in the Jabaliya camp near Gaza City and of several wounded people, including children, being brought to a nearby hospital. The Hamas-run government said the strikes killed and wounded many people, but the exact toll was not yet known. The Al-Jazeera footage showed nearly identical scenes as the day before, with dozens of men digging through the gray rubble of demolished multistory buildings in search of survivors. The toll from Tuesday’s strikes was also unknown, though the director of a nearby hospital said hundreds were killed or wounded. Israel said those strikes killed dozens of militants, including a senior Hamas commander who was involved in the militants’ bloody Oct. 7 rampage that ignited the war, and destroyed militant tunnels beneath the buildings. The strikes came as Israeli ground forces pushed to the outskirts of Gaza City, days after launching a new phase of the war that Israel’s leaders say will be long and difficult. As when Israeli troops first pushed into Gaza in larger numbers over the weekend, internet and phone service was cut for several hours Wednesday. The isolated Palestinian enclave, home to 2.3 million people, is in the grip of a severe humanitarian crisis amid a siege imposed by Israel in the wake of the Oct. 7 attack. Over half the population has fled their homes, and supplies of food, medicine, water and fuel are running low. A territory-wide blackout has left hospitals reliant on generators that could shut down soon as Israel has barred all fuel imports. The strikes in Jabaliya underline the anticipated surge in casualties on both sides as Israeli troops advance toward the outskirts of Gaza City and its dense residential neighborhoods. Israeli officials say Hamas’ military infrastructure, including hundreds of kilometers (miles) of underground tunnels, is concentrated in the city, which was home to some 650,000 people before the war. Despite the deteriorating circumstances, no one has been allowed to leave Gaza, except for four hostages released by Hamas. Another captive was rescued by Israeli forces earlier this week. But a limited agreement appeared to have been reached Wednesday. The Palestinian crossing authority said more than 400 foreign passport holders would be permitted to leave for Egypt, as would some wounded people. Egypt, however, has said it will not accept an influx of Palestinian refugees because of fears Israel will not allow them to return to Gaza after the war. Dozens of people could be seen entering the Rafah crossing — the only one currently operating — and ambulances carrying wounded Palestinians exited on the Egyptian side. More than 80 Palestinians — out of many thousands wounded in the war — will be brought in for treatment, Egypt’s Health Ministry said, and a field hospital has been set up in an Egyptian town near the crossing. Those who remain behind are contending with multiple crises, made worse Wednesday by the communications blackout. The Palestinian telecoms company Paltel said internet and mobile phone services were gradually being restored in Gaza following a “complete disruption” that lasted several hours. Internet-access advocacy group NetBlocks.org attributed both disruptions to “measures imposed by Israel.” Alp Toker, the director the group, said “service remains significantly below pre-war levels.” The International Committee of the Red Cross said such blackouts make it harder for civilians to seek safety. “Even the potentially life-saving act of calling an ambulance becomes impossible,” said Jessica Moussan, an ICRC spokesperson. The Palestinian Health Ministry, meanwhile, said that Gaza’s only hospital offering specialized treatment for cancer patients was forced to shut down because of lack of fuel, leaving 70 cancer patients in a critical situation. More than 8,500 Palestinians have been killed in the war, mostly women and minors, and more than 21,000 people have been wounded, the Gaza Health Ministry said Tuesday, without providing a breakdown between civilians and fighters. The figure is without precedent in decades of Israeli-Palestinian violence. Over 1,400 people have died on the Israeli side, mainly civilians killed during Hamas’ initial attack, also an unprecedented figure. Palestinian militants also abducted around 240 people during their incursion and have continued firing rockets into Israel. The Israeli military confirmed Wednesday that nine soldiers have been killed in fighting in northern Gaza, bringing the total number of soldiers killed since the start of the ground operation to 11. Israel has been vague about its operations in Gaza, but residents and spokesmen for militant groups say troops appear to be trying to take control of the two main north-south roads. An estimated 800,000 Palestinians have fled south from Gaza City and other northern areas following Israeli orders to evacuate, but hundreds of thousands remain in the north. Israel has allowed international aid groups to send more than 200 trucks carrying food and medicine to enter from Egypt over the past 10 days, but aid workers say it’s not nearly enough. Israel has vowed to crush Hamas’ ability to govern Gaza or threaten it, while also saying it does not plan to reoccupy the territory, from which it withdrew soldiers and settlers in 2005. But it has said little about who would govern Gaza afterwards. In congressional testimony on Tuesday, U.S. Secretary of State Antony Blinken suggested that “at some point, what would make the most sense is for an effective and revitalized Palestinian Authority to have governance and ultimately security responsibility for Gaza.” Hamas drove the authority’s forces out of Gaza in a week of heavy fighting in 2007, leaving it with limited control over parts of the Israeli-occupied West Bank. Palestinian support for the President Mahmoud Abbas has plunged since then, with many Palestinians dismissing the PA as little more than Israel’s police force because it helps suppress Hamas and other militant groups. The war has meanwhile threatened to ignite more fighting on other fronts. Israel and Lebanon’s Hezbollah militant group have traded fire daily along the border, and Israel and the U.S. have struck targets in Syria linked to Iran, which supports Hamas, Hezbollah and other armed groups in the region. Rear Adm. Daniel Hagari, an military spokesman, said Israeli forces “intercepted a threat” overnight south of the southernmost city of Eilat that did not pose any risk to Israelis and did not enter Israeli airspace, without elaborating. A day earlier, the military said it shot down what appeared to be a drone near Eilat and intercepted a missile over the Red Sea. Iran-backed Houthi rebels in Yemen claimed the attacks.\n"
          ]
        }
      ]
    },
    {
      "cell_type": "markdown",
      "source": [
        "### Main Function"
      ],
      "metadata": {
        "id": "7BDSVpQsnE-A"
      }
    },
    {
      "cell_type": "code",
      "source": [
        "if __name__ == \"__main__\":\n",
        "    source_text = news_text\n",
        "    source_lang = \"en\"  # Source language code, e.g., \"en\" for English\n",
        "    target_lang = \"fr\"  # Target language code, \"fr\" for French\n",
        "    print(news_text)\n",
        "    translated_text = summarize_and_translate(source_text, source_lang, target_lang)\n",
        "    print(\"Summarized and Translated Text in French:\")\n",
        "    print(translated_text)"
      ],
      "metadata": {
        "colab": {
          "base_uri": "https://localhost:8080/"
        },
        "id": "KRWYiXYDIOl_",
        "outputId": "49e121e5-aa50-4b8b-df3d-e171b24d0af2"
      },
      "execution_count": null,
      "outputs": [
        {
          "name": "stdout",
          "output_type": "stream",
          "text": [
            "Israeli airstrikes hit apartment buildings in a Gaza refugee camp for the second day in a row Wednesday, Palestinian officials said, as the territory’s only functioning border post opened to allow foreign passport holders to leave for the first time since war broke out over three weeks ago. Al-Jazeera television, one of the few media outlets still reporting from northern Gaza, aired footage of devastation in the Jabaliya camp near Gaza City and of several wounded people, including children, being brought to a nearby hospital. The Hamas-run government said the strikes killed and wounded many people, but the exact toll was not yet known. The Al-Jazeera footage showed nearly identical scenes as the day before, with dozens of men digging through the gray rubble of demolished multistory buildings in search of survivors. The toll from Tuesday’s strikes was also unknown, though the director of a nearby hospital said hundreds were killed or wounded. Israel said those strikes killed dozens of militants, including a senior Hamas commander who was involved in the militants’ bloody Oct. 7 rampage that ignited the war, and destroyed militant tunnels beneath the buildings. The strikes came as Israeli ground forces pushed to the outskirts of Gaza City, days after launching a new phase of the war that Israel’s leaders say will be long and difficult. As when Israeli troops first pushed into Gaza in larger numbers over the weekend, internet and phone service was cut for several hours Wednesday. The isolated Palestinian enclave, home to 2.3 million people, is in the grip of a severe humanitarian crisis amid a siege imposed by Israel in the wake of the Oct. 7 attack. Over half the population has fled their homes, and supplies of food, medicine, water and fuel are running low. A territory-wide blackout has left hospitals reliant on generators that could shut down soon as Israel has barred all fuel imports. The strikes in Jabaliya underline the anticipated surge in casualties on both sides as Israeli troops advance toward the outskirts of Gaza City and its dense residential neighborhoods. Israeli officials say Hamas’ military infrastructure, including hundreds of kilometers (miles) of underground tunnels, is concentrated in the city, which was home to some 650,000 people before the war. Despite the deteriorating circumstances, no one has been allowed to leave Gaza, except for four hostages released by Hamas. Another captive was rescued by Israeli forces earlier this week. But a limited agreement appeared to have been reached Wednesday. The Palestinian crossing authority said more than 400 foreign passport holders would be permitted to leave for Egypt, as would some wounded people. Egypt, however, has said it will not accept an influx of Palestinian refugees because of fears Israel will not allow them to return to Gaza after the war. Dozens of people could be seen entering the Rafah crossing — the only one currently operating — and ambulances carrying wounded Palestinians exited on the Egyptian side. More than 80 Palestinians — out of many thousands wounded in the war — will be brought in for treatment, Egypt’s Health Ministry said, and a field hospital has been set up in an Egyptian town near the crossing. Those who remain behind are contending with multiple crises, made worse Wednesday by the communications blackout. The Palestinian telecoms company Paltel said internet and mobile phone services were gradually being restored in Gaza following a “complete disruption” that lasted several hours.\n"
          ]
        },
        {
          "output_type": "stream",
          "name": "stderr",
          "text": [
            "No model was supplied, defaulted to sshleifer/distilbart-cnn-12-6 and revision a4f8f3e (https://huggingface.co/sshleifer/distilbart-cnn-12-6).\n",
            "Using a pipeline without specifying a model name and revision in production is not recommended.\n"
          ]
        },
        {
          "output_type": "stream",
          "name": "stdout",
          "text": [
            "Summarized and Translated Text in French:\n",
            "Les frappes aériennes israéliennes ont frappé des immeubles d'appartements dans un camp de réfugiés de Gaza pour le deuxième jour d'affilée, disent les responsables palestiniens. La télévision Al-Jazeera a diffusé des images de dévastation dans le camp de Jabaliya près de Gaza. Le gouvernement dirigé par le Hamas a déclaré que les frappes ont tué et blessé de nombreuses personnes, mais le péage exact n'était pas encore connu.\n"
          ]
        }
      ]
    },
    {
      "cell_type": "code",
      "source": [],
      "metadata": {
        "id": "MJuktzNChWhv"
      },
      "execution_count": null,
      "outputs": []
    }
  ]
}